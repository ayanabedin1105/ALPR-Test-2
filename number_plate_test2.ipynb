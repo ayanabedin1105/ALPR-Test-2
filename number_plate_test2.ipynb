{
 "cells": [
  {
   "cell_type": "code",
   "execution_count": 1,
   "id": "c36508fd",
   "metadata": {},
   "outputs": [
    {
     "ename": "ModuleNotFoundError",
     "evalue": "No module named 'easyocr'",
     "output_type": "error",
     "traceback": [
      "\u001b[1;31m---------------------------------------------------------------------------\u001b[0m",
      "\u001b[1;31mModuleNotFoundError\u001b[0m                       Traceback (most recent call last)",
      "\u001b[1;32mc:\\Users\\abedi\\Downloads\\College TU856 DT228\\College Year 4\\Final Year Project\\Codes\\ANPR-test2\\number_plate_test2.ipynb Cell 1\u001b[0m line \u001b[0;36m1\n\u001b[1;32m----> <a href='vscode-notebook-cell:/c%3A/Users/abedi/Downloads/College%20TU856%20DT228/College%20Year%204/Final%20Year%20Project/Codes/ANPR-test2/number_plate_test2.ipynb#W1sZmlsZQ%3D%3D?line=0'>1</a>\u001b[0m \u001b[39mimport\u001b[39;00m \u001b[39measyocr\u001b[39;00m\n",
      "\u001b[1;31mModuleNotFoundError\u001b[0m: No module named 'easyocr'"
     ]
    }
   ],
   "source": [
    "import easyocr"
   ]
  },
  {
   "cell_type": "code",
   "execution_count": 5,
   "id": "6c175210",
   "metadata": {},
   "outputs": [],
   "source": [
    "from IPython.display import Image\n",
    "import matplotlib.pyplot as plt\n",
    "import os\n",
    "import cv2"
   ]
  },
  {
   "cell_type": "code",
   "execution_count": 6,
   "id": "69751d5a",
   "metadata": {},
   "outputs": [
    {
     "data": {
      "image/jpeg": "[encoded data removed]",
      "text/plain": [
       "<IPython.core.display.Image object>"
      ]
     },
     "execution_count": 6,
     "metadata": {},
     "output_type": "execute_result"
    }
   ],
   "source": [
    "Image(\"plate_folder/scanned_img_0.jpg\")"
   ]
  },
  {
   "cell_type": "code",
   "execution_count": 7,
   "id": "61e94f6e",
   "metadata": {},
   "outputs": [
    {
     "name": "stderr",
     "output_type": "stream",
     "text": [
      "Neither CUDA nor MPS are available - defaulting to CPU. Note: This module is much faster with a GPU.\n"
     ]
    }
   ],
   "source": [
    "reader = easyocr.Reader(['en'])"
   ]
  },
  {
   "cell_type": "code",
   "execution_count": 8,
   "id": "96ea4563",
   "metadata": {},
   "outputs": [],
   "source": [
    "output = reader.readtext(\"plate_folder/scanned_img_0.jpg\")"
   ]
  },
  {
   "cell_type": "code",
   "execution_count": 9,
   "id": "d14e5f01",
   "metadata": {},
   "outputs": [
    {
     "data": {
      "text/plain": [
       "[([[12, 25], [211, 25], [211, 78], [12, 78]], 'KY7O CMT', 0.354111608956135)]"
      ]
     },
     "execution_count": 9,
     "metadata": {},
     "output_type": "execute_result"
    }
   ],
   "source": [
    "output"
   ]
  },
  {
   "cell_type": "code",
   "execution_count": 10,
   "id": "cbcd013d",
   "metadata": {},
   "outputs": [],
   "source": [
    "#directory containing images\n",
    "images_directory = \"plate_folder/\""
   ]
  },
  {
   "cell_type": "code",
   "execution_count": 11,
   "id": "ee63dfd4",
   "metadata": {},
   "outputs": [],
   "source": [
    "#list all the files in the directory\n",
    "image_files = os.listdir(images_directory)"
   ]
  },
  {
   "cell_type": "code",
   "execution_count": 12,
   "id": "6805fbd6",
   "metadata": {},
   "outputs": [
    {
     "name": "stdout",
     "output_type": "stream",
     "text": [
      "Text detected in scanned_img_0.jpg:\n",
      "KY7O CMT\n",
      "--------------------\n",
      "Text detected in scanned_img_1.jpg:\n",
      "Ky7O CWT\n",
      "--------------------\n",
      "Text detected in scanned_img_2.jpg:\n",
      "MH 20EE 7602\n",
      "--------------------\n",
      "Text detected in scanned_img_3.jpg:\n",
      "LH 20 EE 7602]\n",
      "--------------------\n",
      "Text detected in scanned_img_4.jpg:\n",
      "Ka 02Mp 96571\n",
      "--------------------\n",
      "Text detected in scanned_img_5.jpg:\n",
      "Sn66 XMZ\n",
      "--------------------\n",
      "Text detected in scanned_img_6.jpg:\n",
      "SN6G XhZ\n",
      "--------------------\n",
      "Text detected in scanned_img_7.jpg:\n",
      "SN66 XMZ\n",
      "--------------------\n"
     ]
    }
   ],
   "source": [
    "# Loop through each image file\n",
    "for image_file in image_files:\n",
    "    if image_file.endswith(('png', 'jpg', 'jpeg', 'gif', 'bmp')):  # Check if the file is an image\n",
    "        image_path = os.path.join(images_directory, image_file)\n",
    "        \n",
    "        # Perform OCR on the image\n",
    "        result = reader.readtext(image_path)\n",
    "        \n",
    "        # Display the results\n",
    "        print(f\"Text detected in {image_file}:\")\n",
    "        for detection in result:\n",
    "            print(detection[1])  # Display the detected text\n",
    "        print(\"-\" * 20)  # Separator between images"
   ]
  }
 ],
 "metadata": {
  "kernelspec": {
   "display_name": "Python 3 (ipykernel)",
   "language": "python",
   "name": "python3"
  },
  "language_info": {
   "codemirror_mode": {
    "name": "ipython",
    "version": 3
   },
   "file_extension": ".py",
   "mimetype": "text/x-python",
   "name": "python",
   "nbconvert_exporter": "python",
   "pygments_lexer": "ipython3",
   "version": "3.11.6"
  }
 },
 "nbformat": 4,
 "nbformat_minor": 5
}
